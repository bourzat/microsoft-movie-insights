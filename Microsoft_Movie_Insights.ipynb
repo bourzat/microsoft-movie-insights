{
 "cells": [
  {
   "cell_type": "markdown",
   "metadata": {},
   "source": [
    "## Final Project Submission\n",
    "\n",
    "Please fill out:\n",
    "* Student name: `Ilyas Suleman Bourzat`\n",
    "* Student pace: part time\n",
    "* Scheduled project review date/time: Monday June 3 at 2.59pm\n",
    "* Instructor name: Samuel Karu, Samuel G Mwangi, Winnie Anyoso\n",
    "* Blog post URL:\n"
   ]
  },
  {
   "cell_type": "code",
   "execution_count": null,
   "metadata": {},
   "outputs": [],
   "source": [
    "# Add image of Microsoft "
   ]
  },
  {
   "cell_type": "markdown",
   "metadata": {},
   "source": [
    "# From Data to Movies: Guiding Microsoft's Entry into the Movie Industry\n",
    "___"
   ]
  },
  {
   "cell_type": "markdown",
   "metadata": {},
   "source": [
    "## Overview\n",
    "\n",
    "___\n",
    "\n",
    "This project aims to provide strategic insights to Microsoft's new movie studio through an in-depth Exploratory Data Analysis (EDA). We will be examining variuos datasets from `IMDB` and `Box Office Mojo` - we'll be trying to identify Box Office trends and impactful movie performance metrics. This analysis will mainly be focused on what type of films are highly successful and in turn translating these findigs into actionable recommendations for Microsoft's film production strategy."
   ]
  },
  {
   "cell_type": "markdown",
   "metadata": {},
   "source": [
    "## Introduction\n",
    "\n",
    "___"
   ]
  },
  {
   "cell_type": "markdown",
   "metadata": {},
   "source": [
    "In today's highly competitive entertainment industry, where companies continously aim to create captivating content while simultaneously giving high financial returns. Microsoft has been inspired by the success of other major companies - such as Amazon - to create original films and plans to establish their own new movie studio. However, entering the film production industry poses a significant challenge since it requires a comprehensive understanding of movies that not only ressonate with majority of audience around the world but also do well financially. \n",
    "\n",
    "This project aims to address this challenge by leveraging EDA to analyse various movie datasets. This willl help us to identify current Box Office trends, movie performance metrics and audience preferences. The insights derived from this data will provide Microsoft's new movie studio with actionable recommendations on what \n",
    "\n",
    "\n",
    "The main challenge Microsoft is facing is "
   ]
  },
  {
   "cell_type": "code",
   "execution_count": null,
   "metadata": {},
   "outputs": [],
   "source": []
  }
 ],
 "metadata": {
  "kernelspec": {
   "display_name": "Python 3 (ipykernel)",
   "language": "python",
   "name": "python3"
  },
  "language_info": {
   "codemirror_mode": {
    "name": "ipython",
    "version": 3
   },
   "file_extension": ".py",
   "mimetype": "text/x-python",
   "name": "python",
   "nbconvert_exporter": "python",
   "pygments_lexer": "ipython3",
   "version": "3.12.2"
  }
 },
 "nbformat": 4,
 "nbformat_minor": 2
}
